{
 "cells": [
  {
   "cell_type": "code",
   "execution_count": 9,
   "metadata": {
    "collapsed": false
   },
   "outputs": [
    {
     "name": "stdout",
     "output_type": "stream",
     "text": [
      "Введите имя игрока:p\n",
      "Введите имя врага:e\n"
     ]
    },
    {
     "data": {
      "text/plain": [
       "{'damage': 10, 'health': 90, 'name': 'e'}"
      ]
     },
     "execution_count": 9,
     "metadata": {},
     "output_type": "execute_result"
    }
   ],
   "source": [
    "# Задание - 1\n",
    "# Давайте опишем пару сущностей player и enemy через словарь,\n",
    "# который будет иметь ключи и значения:\n",
    "# name - строка полученная от пользователя,\n",
    "# health - 100,\n",
    "# damage - 50.\n",
    "# Поэксперементируйте с значениями урона и жизней по желанию.\n",
    "# Теперь надо создать функцию attack(person1, persoтn2), аргументы можете указать свои,\n",
    "# функция в качестве аргумента будет принимать атакующего и атакуемого,\n",
    "# функция должна получить параметр damage атакующего и отнять это количество\n",
    "# health от атакуемого. Функция должна сама работать с словарями и изменять их значения.\n",
    "\n",
    "player_name = input('Введите имя игрока:')\n",
    "enemy_name = input('Введите имя врага:')\n",
    "\n",
    "player = {'name': player_name, 'health': 100, 'damage': 10}\n",
    "enemy = {'name': enemy_name, 'health': 100, 'damage': 10}\n",
    "def attack(attacker, terpila):\n",
    "    terpila.update({'health': terpila['health'] - attacker['damage']})\n",
    "    return terpila\n",
    "attack(player, enemy)\n",
    "print(enemy)"
   ]
  },
  {
   "cell_type": "code",
   "execution_count": 17,
   "metadata": {
    "collapsed": false
   },
   "outputs": [
    {
     "name": "stdout",
     "output_type": "stream",
     "text": [
      "Введите имя игрока:Legolaz\n",
      "Введите имя врага:e\n",
      "Legolaz наносит 11.927 урона, у e остается 88.073 здоровья\n",
      "e наносит 11.818 урона, у Legolaz остается 88.182 здоровья\n",
      "Legolaz наносит 5.505 урона, у e остается 82.568 здоровья\n",
      "e наносит 10.0 урона, у Legolaz остается 78.182 здоровья\n",
      "Legolaz наносит 6.422 урона, у e остается 76.146 здоровья\n",
      "e наносит 12.727 урона, у Legolaz остается 65.455 здоровья\n",
      "Legolaz наносит 9.174 урона, у e остается 66.972 здоровья\n",
      "e наносит 10.0 урона, у Legolaz остается 55.455 здоровья\n",
      "Legolaz наносит 4.587 урона, у e остается 62.385 здоровья\n",
      "e наносит 4.545 урона, у Legolaz остается 50.91 здоровья\n",
      "Legolaz наносит 12.844 урона, у e остается 49.541 здоровья\n",
      "e наносит 10.0 урона, у Legolaz остается 40.91 здоровья\n",
      "Legolaz наносит 7.339 урона, у e остается 42.202 здоровья\n",
      "e наносит 9.091 урона, у Legolaz остается 31.819 здоровья\n",
      "Legolaz наносит 8.257 урона, у e остается 33.945 здоровья\n",
      "e наносит 9.091 урона, у Legolaz остается 22.728 здоровья\n",
      "Legolaz наносит 7.339 урона, у e остается 26.606 здоровья\n",
      "e наносит 11.818 урона, у Legolaz остается 10.91 здоровья\n",
      "Legolaz наносит 9.174 урона, у e остается 17.432 здоровья\n",
      "e наносит 7.273 урона, у Legolaz остается 3.637 здоровья\n",
      "Legolaz наносит 11.927 урона, у e остается 5.505 здоровья\n",
      "e наносит 8.182 урона, у Legolaz остается -4.545 здоровья\n",
      "e победил, у него осталось 5.505 здоровья\n",
      "Legolaz проиграл, у него осталось -4.545 здоровья\n"
     ]
    }
   ],
   "source": [
    "# Задание - 2\n",
    "# Давайте усложним предыдущее задание, измените сущности, добавив новый параметр - armor = 1.2\n",
    "# Теперь надо добавить функцию, которая будет вычислять и возвращать полученный урон по формуле damage / armor\n",
    "# Следовательно у вас должно быть 2 функции, одна наносит урон, вторая вычисляет урон по отношению к броне.\n",
    " \n",
    "# Сохраните эти сущности, полностью, каждую в свой файл,\n",
    "# в качестве названия для файла использовать name, расширение .txt\n",
    "# Напишите функцию, которая будет считывать файл игрока и его врага, получать оттуда данные, и записывать их в словари,\n",
    "# после чего происходит запуск игровой сессии, где сущностям поочередно наносится урон,\n",
    "# пока у одного из них health не станет меньше или равен 0.\n",
    "# После чего на экран должно быть выведено имя победителя, и количество оставшихся единиц здоровья.\n",
    "import random\n",
    "player_name = input('Введите имя игрока:')\n",
    "enemy_name = input('Введите имя врага:')\n",
    "\n",
    "player = {'name': player_name, 'health': 100, 'damage': 10, 'armor': 1.1}\n",
    "enemy = {'name': enemy_name, 'health': 100, 'damage': 10, 'armor': 1.09}\n",
    "\n",
    "with open(player_name + '.txt', 'w') as f:\n",
    "    for k,v in player.items():\n",
    "        f. write(k + ' ' + str(v) + '\\n')\n",
    "with open(enemy_name + '.txt', 'w') as f:\n",
    "    for k,v in enemy.items():\n",
    "        f. write(k + ' ' + str(v) + '\\n')\n",
    "\n",
    "def player_file(file_name):\n",
    "    player_data = {}\n",
    "    with open(file_name, 'r') as f:\n",
    "        for line in f.readlines():\n",
    "            key,val = line.split()\n",
    "            if key == 'name':\n",
    "                player_data[key] = val\n",
    "            else:\n",
    "                player_data[key] = float(val)\n",
    "    return player_data\n",
    "\n",
    "def reduced_damage(attacker, terpila):\n",
    "    rd = round((attacker['damage']+random.randint(-5,5))/terpila['armor'], 3)\n",
    "    return rd\n",
    "def attack(attacker, terpila):\n",
    "    rd = reduced_damage(attacker, terpila)    \n",
    "    terpila.update({'health': round(terpila['health'] - rd, 3)})\n",
    "    print('{} наносит {} урона, у {} остается {} здоровья'.format(attacker['name'], rd, terpila['name'], terpila['health']))\n",
    "    return terpila\n",
    "\n",
    "player1 = player_file('Legolaz.txt')\n",
    "player2 = player_file('e.txt')\n",
    "i = 0\n",
    "while True:\n",
    "    if player1['health'] <= 0 or player2['health'] <= 0:\n",
    "        if player1['health'] > player2['health']:\n",
    "            print('{} победил, у него осталось {} здоровья'.format(player1['name'], str(player1['health'])))\n",
    "            print('{} проиграл, у него осталось {} здоровья'.format(player2['name'], str(player2['health'])))\n",
    "        else:\n",
    "            print('{} победил, у него осталось {} здоровья'.format(player2['name'], str(player2['health'])))\n",
    "            print('{} проиграл, у него осталось {} здоровья'.format(player1['name'], str(player1['health'])))\n",
    "        break\n",
    "    if i % 2 == 0:\n",
    "        attack(player1, player2)\n",
    "    else:\n",
    "        attack(player2, player1)\n",
    "    i += 1"
   ]
  }
 ],
 "metadata": {
  "kernelspec": {
   "display_name": "Python 3",
   "language": "python",
   "name": "python3"
  },
  "language_info": {
   "codemirror_mode": {
    "name": "ipython",
    "version": 3
   },
   "file_extension": ".py",
   "mimetype": "text/x-python",
   "name": "python",
   "nbconvert_exporter": "python",
   "pygments_lexer": "ipython3",
   "version": "3.6.0"
  }
 },
 "nbformat": 4,
 "nbformat_minor": 2
}
