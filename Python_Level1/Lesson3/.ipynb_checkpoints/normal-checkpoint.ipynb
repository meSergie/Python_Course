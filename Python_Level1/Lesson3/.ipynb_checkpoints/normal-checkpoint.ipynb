{
 "cells": [
  {
   "cell_type": "code",
   "execution_count": 12,
   "metadata": {
    "collapsed": false
   },
   "outputs": [
    {
     "name": "stdout",
     "output_type": "stream",
     "text": [
      "IVANOV 870.0\n",
      "PETROV 1740.0\n",
      "POMIDOROV 4350.0\n",
      "SIDOROV 2610.0\n"
     ]
    },
    {
     "data": {
      "text/plain": [
       "{'Ivanov': 1000, 'Petrov': 2000, 'Pomidorov': 5000, 'Sidorov': 3000}"
      ]
     },
     "execution_count": 12,
     "metadata": {},
     "output_type": "execute_result"
    }
   ],
   "source": [
    "# Задание - 1\n",
    "# Вам даны 2 списка одинаковой длины, в первом списке имена людей, во втором зарплаты,\n",
    "# вам необходимо получить на выходе словарь, где ключ - имя, значение - зарплата.\n",
    "# Запишите результаты в файл salary.txt так, чтобы на каждой строке было 2 столбца,\n",
    "# столбцы разделяются пробелом, тире, пробелом. в первом имя, во втором зарплата, например: Vasya - 5000\n",
    "# После чего прочитайте файл, выведите построчно имя и зарплату минус 13% (налоги ведь),\n",
    "# Есть условие, не отображать людей получающих более зарплату 500000, как именно\n",
    "#  выполнить условие решать вам, можете не писать в файл\n",
    "# можете не выводить, подумайте какой способ будет наиболее правильным и оптимальным,\n",
    "#  если скажем эти файлы потом придется передавать.\n",
    "# Так же при выводе имя должно быть полностью в верхнем регистре!\n",
    "# Подумайте вспоминая урок, как это можно сделать максимально кратко, используя возможности языка Python.\n",
    "\n",
    "names = ['Ivanov', 'Petrov', 'Sidorov', 'Ogurcov', 'Pomidorov']\n",
    "zp = [1000, 2000, 3000, 600000, 5000]\n",
    "name_zp = {}\n",
    "for key, val in zip(names,zp):\n",
    "    if val <= 500000:\n",
    "        name_zp[key] = val\n",
    "with open('salary.txt', 'w') as f:\n",
    "    for key,val in name_zp.items():\n",
    "        f.write(key + ' - ' + str(val)+ '\\n')\n",
    "with open('salary.txt', 'r') as f:\n",
    "    for line in f.readlines():\n",
    "        name, zp = line.split(' - ')\n",
    "        print(name.upper() + ' ' + str(0.87 * float(zp)))\n",
    "name_zp"
   ]
  }
 ],
 "metadata": {
  "kernelspec": {
   "display_name": "Python [default]",
   "language": "python",
   "name": "python3"
  },
  "language_info": {
   "codemirror_mode": {
    "name": "ipython",
    "version": 3
   },
   "file_extension": ".py",
   "mimetype": "text/x-python",
   "name": "python",
   "nbconvert_exporter": "python",
   "pygments_lexer": "ipython3",
   "version": "3.5.2"
  }
 },
 "nbformat": 4,
 "nbformat_minor": 1
}
