{
 "cells": [
  {
   "cell_type": "code",
   "execution_count": 6,
   "metadata": {
    "collapsed": false
   },
   "outputs": [
    {
     "name": "stdout",
     "output_type": "stream",
     "text": [
      "Введите имя:vas\n",
      "Введите возраст:21 moscow\n",
      "Введите город:moscow\n",
      "vas,21 moscow год, проживает в городе moscow\n"
     ]
    }
   ],
   "source": [
    "# Задание - 1\n",
    "# Создайте функцию, принимающую на вход Имя, возраст и город проживания человека\n",
    "# Функция должна возвращать строку вида \"Василий, 21 год(а), проживает в городе Москва\"\n",
    "def vasya(name, age, city):\n",
    "    print('{},{} год(а), проживает в городе {}'.format(name,age,city))\n",
    "name = input('Введите имя:')\n",
    "age = input('Введите возраст:')\n",
    "city = input('Введите город:')\n",
    "vasya(name, age, city)"
   ]
  },
  {
   "cell_type": "code",
   "execution_count": 20,
   "metadata": {
    "collapsed": false
   },
   "outputs": [
    {
     "name": "stdout",
     "output_type": "stream",
     "text": [
      "6\n"
     ]
    }
   ],
   "source": [
    "# Задание - 2\n",
    "# Создайте функцию, принимающую на вход 3 числа, и возвращающую наибольшее из них\n",
    "\n",
    "def mmax(a,b,c):\n",
    "    maks = a\n",
    "    if b > a:\n",
    "        maks = b\n",
    "    if c > maks:\n",
    "        maks = c\n",
    "    return maks\n",
    "print(mmax(5,5,6))"
   ]
  },
  {
   "cell_type": "code",
   "execution_count": 30,
   "metadata": {
    "collapsed": false
   },
   "outputs": [
    {
     "name": "stdout",
     "output_type": "stream",
     "text": [
      "qwe fgghy wdfgsdghdgh swgtwe hg ff yh\n",
      "11\n"
     ]
    }
   ],
   "source": [
    "# Задание - 3\n",
    "# Создайте функцию, принимающую неограниченное количество строковых аргументов,\n",
    "# верните самую длинную строку из полученных аргументов\n",
    "def maks_string(*args):\n",
    "    maks = len(args[0])\n",
    "    for i in args:\n",
    "        if len(i) > maks:\n",
    "            maks = len(i)\n",
    "    return maks\n",
    "string_args = input().split()\n",
    "print(maks_string(*string_args))"
   ]
  }
 ],
 "metadata": {
  "anaconda-cloud": {},
  "kernelspec": {
   "display_name": "Python 3",
   "language": "python",
   "name": "python3"
  },
  "language_info": {
   "codemirror_mode": {
    "name": "ipython",
    "version": 3
   },
   "file_extension": ".py",
   "mimetype": "text/x-python",
   "name": "python",
   "nbconvert_exporter": "python",
   "pygments_lexer": "ipython3",
   "version": "3.6.0"
  }
 },
 "nbformat": 4,
 "nbformat_minor": 1
}
