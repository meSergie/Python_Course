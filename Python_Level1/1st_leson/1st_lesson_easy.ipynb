{
 "cells": [
  {
   "cell_type": "markdown",
   "metadata": {},
   "source": [
    " Задача-1: поработайте с переменными, создайте несколько,\n",
    " выведите на экран, запросите от пользователя и сохраните в переменную, выведите на экран"
   ]
  },
  {
   "cell_type": "code",
   "execution_count": 4,
   "metadata": {
    "collapsed": false,
    "scrolled": true
   },
   "outputs": [
    {
     "name": "stdout",
     "output_type": "stream",
     "text": [
      "a=1 , b = 2, s = string\n",
      "Введите значение переменной user:45\n",
      "user =  45\n"
     ]
    }
   ],
   "source": [
    "a = 1\n",
    "b = 2\n",
    "s = 'string'\n",
    "print('a={} , b = {}, s = {}'.format(a, b, s))\n",
    "user = input('Введите значение переменной user:')\n",
    "print('user = ', user)"
   ]
  },
  {
   "cell_type": "code",
   "execution_count": 5,
   "metadata": {
    "collapsed": false
   },
   "outputs": [
    {
     "name": "stdout",
     "output_type": "stream",
     "text": [
      "Введите целое число n:5\n",
      "n + 2 =  7\n"
     ]
    }
   ],
   "source": [
    "# Задача-2: Запросите от пользователя число, сохраните в переменную,\n",
    "# прибавьте к числу 2 и выведите результат на экран.\n",
    "# Если возникла ошибка, прочитайте ее, вспомните урок и постарайтесь устранить ошибку.\n",
    "n = int(input('Введите целое число n:'))\n",
    "print('n + 2 = ', n + 2)"
   ]
  },
  {
   "cell_type": "code",
   "execution_count": 11,
   "metadata": {
    "collapsed": false
   },
   "outputs": [
    {
     "name": "stdout",
     "output_type": "stream",
     "text": [
      "Сколько вам лет?: 12\n",
      "Извините, пользование данным ресурсом только с 18 лет\n"
     ]
    }
   ],
   "source": [
    "# Задача-3: Запросите у пользователя его возраст.\n",
    "# Если ему есть 18 лет, выведите: \"Доступ разрешен\",\n",
    "# иначе \"Извините, пользование данным ресурсом только с 18 лет\"\n",
    "age = int(input('Сколько вам лет?: '))\n",
    "if age >= 18:\n",
    "    print('Доступ разрешен')\n",
    "else:\n",
    "    print('Извините, пользование данным ресурсом только с 18 лет')"
   ]
  }
 ],
 "metadata": {
  "kernelspec": {
   "display_name": "Python 3",
   "language": "python",
   "name": "python3"
  },
  "language_info": {
   "codemirror_mode": {
    "name": "ipython",
    "version": 3
   },
   "file_extension": ".py",
   "mimetype": "text/x-python",
   "name": "python",
   "nbconvert_exporter": "python",
   "pygments_lexer": "ipython3",
   "version": "3.6.0"
  }
 },
 "nbformat": 4,
 "nbformat_minor": 2
}
