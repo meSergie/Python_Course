{
 "cells": [
  {
   "cell_type": "code",
   "execution_count": 64,
   "metadata": {
    "collapsed": false
   },
   "outputs": [
    {
     "name": "stdout",
     "output_type": "stream",
     "text": [
      "[19, 27, 7, 19, 29, 19, 24, 13, 1, 11, 5, 26, 17, 2, 21, 12, 7, 8, 2, 3]\n",
      "[10, 11, 17, 6, 6, 17, 15, 11, 4, 10]\n"
     ]
    }
   ],
   "source": [
    "import random\n",
    "#k = [i for i in range(20)]\n",
    "#lst1 = random.sample(k, 15)\n",
    "lst1 = []\n",
    "for i in range(20):\n",
    "    lst1.append(random.randrange(0, 30, 1))\n",
    "print(lst1)\n",
    "lst2 = []\n",
    "for i in range(10):\n",
    "    lst2.append(random.randrange(0, 20, 1))\n",
    "print(lst2)"
   ]
  },
  {
   "cell_type": "code",
   "execution_count": 17,
   "metadata": {
    "collapsed": false
   },
   "outputs": [
    {
     "name": "stdout",
     "output_type": "stream",
     "text": [
      "1.   яблоко\n",
      "2.    банан\n",
      "3.     киви\n",
      "4.    арбуз\n",
      "5.грейпфрут\n"
     ]
    }
   ],
   "source": [
    "# Задача-1:\n",
    "# Дан список фруктов.\n",
    "# Напишите программу, выводящую фрукты в виде нумерованного списка,\n",
    "# выровненного по правой стороне.\n",
    "\n",
    "# Пример:\n",
    "# Дано: [\"яблоко\", \"банан\", \"киви\", \"арбуз\"]\n",
    "# Вывод:\n",
    "# 1. яблоко\n",
    "# 2.  банан\n",
    "# 3.   киви\n",
    "# 4.  арбуз\n",
    "\n",
    "# Подсказка: воспользоваться методом .format()\n",
    "\n",
    "fruits = ['яблоко', 'банан', 'киви', 'арбуз', 'грейпфрут']\n",
    "max_name = len(fruits[0])\n",
    "for i in fruits:\n",
    "    if len(i) > max_name:\n",
    "        max_name = len(i)\n",
    "\n",
    "s = '{}.{:>' + str(max_name) + '}'\n",
    "\n",
    "for i in range(len(fruits)):\n",
    "    ss = s.format(str(i+1), fruits[i])\n",
    "    print(ss)"
   ]
  },
  {
   "cell_type": "code",
   "execution_count": 63,
   "metadata": {
    "collapsed": false
   },
   "outputs": [
    {
     "name": "stdout",
     "output_type": "stream",
     "text": [
      "[18, 1, 15, 0, 6, 9, 0, 13, 19, 5, 17, 9]\n"
     ]
    }
   ],
   "source": [
    "# Задача-2:\n",
    "# Даны два произвольные списка.\n",
    "# Удалите из первого списка элементы, присутствующие во втором списке.\n",
    "\n",
    "lst1 = [18, 1, 15, 0, 7, 6, 9, 0, 7, 13, 19, 4, 5, 17, 9]\n",
    "lst2 = [3, 11, 3, 10, 11, 10, 7, 2, 8, 4]\n",
    "set2 = set(lst2)\n",
    "for i in range(len(lst1)-1, -1, -1):\n",
    "    if lst1[i] in set2:\n",
    "        lst1.remove(lst1[i])\n",
    "print(lst1)"
   ]
  },
  {
   "cell_type": "code",
   "execution_count": 66,
   "metadata": {
    "collapsed": false
   },
   "outputs": [
    {
     "name": "stdout",
     "output_type": "stream",
     "text": [
      "[38, 54, 14, 38, 58, 38, 6.0, 26, 2, 22, 10, 6.5, 34, 0.5, 42, 3.0, 14, 2.0, 0.5, 6]\n"
     ]
    }
   ],
   "source": [
    "# Задача-3:\n",
    "# Дан произвольный список из целых чисел.\n",
    "# Получите НОВЫЙ список из элементов исходного, выполнив следующие условия:\n",
    "# если элемент кратен двум, то разделить его на 4, если не кратен, то умножить на два.\n",
    "lst = [19, 27, 7, 19, 29, 19, 24, 13, 1, 11, 5, 26, 17, 2, 21, 12, 7, 8, 2, 3]\n",
    "new_lst = []\n",
    "for i in lst:\n",
    "    if i % 2 == 0:\n",
    "        new_lst.append(i/4)\n",
    "    else:\n",
    "        new_lst.append(2*i)\n",
    "print(new_lst)"
   ]
  }
 ],
 "metadata": {
  "kernelspec": {
   "display_name": "Python 3",
   "language": "python",
   "name": "python3"
  },
  "language_info": {
   "codemirror_mode": {
    "name": "ipython",
    "version": 3
   },
   "file_extension": ".py",
   "mimetype": "text/x-python",
   "name": "python",
   "nbconvert_exporter": "python",
   "pygments_lexer": "ipython3",
   "version": "3.6.0"
  }
 },
 "nbformat": 4,
 "nbformat_minor": 2
}
