{
 "cells": [
  {
   "cell_type": "code",
   "execution_count": 21,
   "metadata": {
    "collapsed": false
   },
   "outputs": [
    {
     "name": "stdout",
     "output_type": "stream",
     "text": [
      "<__main__.Person object at 0x036F9710>\n",
      "<class '__main__.Person'> 4.667\n"
     ]
    },
    {
     "data": {
      "text/plain": [
       "95.333"
      ]
     },
     "execution_count": 21,
     "metadata": {},
     "output_type": "execute_result"
    }
   ],
   "source": [
    "import random \n",
    "class Person:\n",
    "    def __init__(self, health, damage, armor):\n",
    "        self.health = health\n",
    "        self.damage = damage\n",
    "        self.armor = armor\n",
    "        \n",
    "    def _reduced_damage(self, damage):\n",
    "        rd = round((damage+random.randint(-5,5))/self.armor, 3)\n",
    "        print(self.__class__, rd)\n",
    "        return rd\n",
    "    \n",
    "    def attack(self, terpila):\n",
    "        \n",
    "        terpila.health -= terpila._reduced_damage(self.damage)#terpila.armor)\n",
    "        \n",
    "class Player(Person):\n",
    "    pass\n",
    "class Battle:\n",
    "    def __init__(self, fighter1, fighter2):\n",
    "        self.attacker = fighter1\n",
    "        self.defender = fighter2\n",
    "    def fight(self, attacker, defender):\n",
    "        \n",
    "fighter1 = Person(100, 10, 2)\n",
    "fighter2 = Person(100, 15, 1.5)\n",
    "print(fighter1)\n",
    "fighter1.attack(fighter2)\n",
    "fighter2.health"
   ]
  }
 ],
 "metadata": {
  "kernelspec": {
   "display_name": "Python 3",
   "language": "python",
   "name": "python3"
  },
  "language_info": {
   "codemirror_mode": {
    "name": "ipython",
    "version": 3
   },
   "file_extension": ".py",
   "mimetype": "text/x-python",
   "name": "python",
   "nbconvert_exporter": "python",
   "pygments_lexer": "ipython3",
   "version": "3.6.0"
  }
 },
 "nbformat": 4,
 "nbformat_minor": 2
}
