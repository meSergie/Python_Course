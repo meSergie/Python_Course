{
 "cells": [
  {
   "cell_type": "code",
   "execution_count": 13,
   "metadata": {
    "collapsed": false
   },
   "outputs": [
    {
     "name": "stdout",
     "output_type": "stream",
     "text": [
      "Машина 1 тронулась.\n",
      "Машина 1 остановилась.\n",
      "Машина 1 повернула направо.\n"
     ]
    }
   ],
   "source": [
    "# Задача - 1\n",
    "# Опишите несколько классов TownCar, SportCar, WorkCar, PoliceCar\n",
    "# У каждого класса должны быть следующие аттрибуты:\n",
    "# speed, color, name, is_police - Булево значение.\n",
    "# А так же несколько методов: go, stop, turn(direction) - которые должны сообщать,\n",
    "#  о том что машина поехала, остановилась, повернула(куда)\n",
    "\n",
    "class TownCar:\n",
    "    def __init__(self, speed, color, name, is_police):\n",
    "        self.speed = speed\n",
    "        self.color = color\n",
    "        self.name = name\n",
    "        self.is_police = is_police\n",
    "    def go(self):\n",
    "        print('Машина {} тронулась.'.format(self.name))\n",
    "    def stop(self):\n",
    "        print('Машина {} остановилась.'.format(self.name))\n",
    "    def turn(self, direction):\n",
    "        print('Машина {} повернула {}.'.format(self.name, direction))\n",
    "        \n",
    "class SportCar():\n",
    "    def __init__(self, speed, color, name, is_police = False):\n",
    "        self.speed = speed\n",
    "        self.color = color\n",
    "        self.name = name\n",
    "        self.is_police = is_police\n",
    "    def go(self):\n",
    "        print('Машина {} тронулась.'.format(self.name))\n",
    "    def stop(self):\n",
    "        print('Машина {} остановилась.'.format(self.name))\n",
    "    def turn(self, direction):\n",
    "        print('Машина {} повернула {}.'.format(self.name, direction))\n",
    "\n",
    "class WorkCar():\n",
    "    def __init__(self, speed, color, name, is_police):\n",
    "        self.speed = speed\n",
    "        self.color = color\n",
    "        self.name = name\n",
    "        self.is_police = is_police\n",
    "    def go(self):\n",
    "        print('Машина {} тронулась.'.format(self.name))\n",
    "    def stop(self):\n",
    "        print('Машина {} остановилась.'.format(self.name))\n",
    "    def turn(self, direction):\n",
    "        print('Машина {} повернула {}.'.format(self.name, direction))\n",
    "        \n",
    "class PoliceCar():\n",
    "    def __init__(self, speed, color, name, is_police):\n",
    "        self.speed = speed\n",
    "        self.color = color\n",
    "        self.name = name\n",
    "        self.is_police = is_police\n",
    "    def go(self):\n",
    "        print('Машина {} тронулась.'.format(self.name))\n",
    "    def stop(self):\n",
    "        print('Машина {} остановилась.'.format(self.name))\n",
    "    def turn(self, direction):\n",
    "        print('Машина {} повернула {}.'.format(self.name, direction))\n",
    "        \n",
    "if __name__ == '__main__':\n",
    "        \n",
    "    bus = TownCar(100, 'green', '1', False)\n",
    "    bus.go()\n",
    "    bus.stop()\n",
    "    bus.turn('направо')"
   ]
  },
  {
   "cell_type": "code",
   "execution_count": 20,
   "metadata": {
    "collapsed": false
   },
   "outputs": [
    {
     "name": "stdout",
     "output_type": "stream",
     "text": [
      "Машина 1 тронулась.\n",
      "Машина 1 остановилась.\n",
      "Машина 1 повернула направо.\n",
      "False\n"
     ]
    }
   ],
   "source": [
    "# Задача - 2\n",
    "# Посмотрите на задачу-1 подумайте как выделить общие признаки классов\n",
    "# в родительский и остальные просто наследовать от него.\n",
    "\n",
    "class Car:\n",
    "    def __init__(self, speed, color, name):\n",
    "        self.speed = speed\n",
    "        self.color = color\n",
    "        self.name = name\n",
    "    def go(self):\n",
    "        print('Машина {} тронулась.'.format(self.name))\n",
    "    def stop(self):\n",
    "        print('Машина {} остановилась.'.format(self.name))\n",
    "    def turn(self, direction):\n",
    "        print('Машина {} повернула {}.'.format(self.name, direction))\n",
    "        \n",
    "class TownCar(Car):\n",
    "    def __init__(self, speed, color, name, is_police):\n",
    "        Car.__init__(self, speed, color, name)\n",
    "        self.is_police = is_police\n",
    "        \n",
    "class SportCar(Car):\n",
    "    def __init__(self, speed, color, name, is_police):\n",
    "        Car.__init__(self, speed, color, name)\n",
    "        self.is_police = is_police\n",
    "        \n",
    "class WorkCar(Car):\n",
    "    def __init__(self, speed, color, name, is_police):\n",
    "        Car.__init__(self, speed, color, name)\n",
    "        self.is_police = is_police\n",
    "        \n",
    "class PoliceCar(Car):\n",
    "    def __init__(self, speed, color, name, is_police):\n",
    "        Car.__init__(self, speed, color, name)\n",
    "        self.is_police = is_police\n",
    "\n",
    "if __name__ == '__main__':\n",
    "        \n",
    "    bus = TownCar(100, 'green', '1', False)\n",
    "    bus.go()\n",
    "    bus.stop()\n",
    "    bus.turn('направо')\n",
    "    print(bus.is_police)"
   ]
  }
 ],
 "metadata": {
  "kernelspec": {
   "display_name": "Python 3",
   "language": "python",
   "name": "python3"
  },
  "language_info": {
   "codemirror_mode": {
    "name": "ipython",
    "version": 3
   },
   "file_extension": ".py",
   "mimetype": "text/x-python",
   "name": "python",
   "nbconvert_exporter": "python",
   "pygments_lexer": "ipython3",
   "version": "3.6.0"
  }
 },
 "nbformat": 4,
 "nbformat_minor": 2
}
