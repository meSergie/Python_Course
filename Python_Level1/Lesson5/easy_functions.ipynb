{
 "cells": [
  {
   "cell_type": "code",
   "execution_count": null,
   "metadata": {
    "collapsed": true
   },
   "outputs": [],
   "source": [
    "# Задача-1:\n",
    "# Напишите небольшую консольную утилиту,\n",
    "# позволяющую работать с папками текущей директории.\n",
    "# Утилита должна иметь меню выбора действия, в котором будут пункты:\n",
    "# 1. Перейти в папку\n",
    "# 2. Просмотреть содержимое текущей папки\n",
    "# 3. Удалить папку\n",
    "# 4. Создать папку\n",
    "# При выборе пунктов 1, 3, 4 программа запрашивает название папки\n",
    "# и выводит результат действия: \"Успешно создано/удалено/перешел\",\n",
    "# \"Невозможно создать/удалить/перейти\"\n",
    "\n",
    "# Для решения данной задачи используйте алгоритмы из задания easy,\n",
    "# оформленные в виде соответствующих функций,\n",
    "# и импортированные в данный файл из easy.py\n",
    "import os\n",
    "def change_dir(path):\n",
    "    os.chdir(path)\n",
    "    \n",
    "def list_dir():\n",
    "    os.listdir()\n",
    "    \n",
    "def delete_dir(path):\n",
    "    try:\n",
    "        os.remove(path)\n",
    "    except FileExistsError:\n",
    "        print('Такой папки не существует')\n",
    "        \n",
    "def make_dir(path):\n",
    "    try:\n",
    "        os.mkdir(path)\n",
    "    except FileExistsError:\n",
    "        print('Папка уже существует')\n"
   ]
  }
 ],
 "metadata": {
  "kernelspec": {
   "display_name": "Python 3",
   "language": "python",
   "name": "python3"
  },
  "language_info": {
   "codemirror_mode": {
    "name": "ipython",
    "version": 3
   },
   "file_extension": ".py",
   "mimetype": "text/x-python",
   "name": "python",
   "nbconvert_exporter": "python",
   "pygments_lexer": "ipython3",
   "version": "3.6.0"
  }
 },
 "nbformat": 4,
 "nbformat_minor": 2
}
