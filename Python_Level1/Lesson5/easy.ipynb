{
 "cells": [
  {
   "cell_type": "code",
   "execution_count": 59,
   "metadata": {
    "collapsed": false
   },
   "outputs": [
    {
     "name": "stdout",
     "output_type": "stream",
     "text": [
      ".ipynb_checkpoints\n",
      "\n",
      "# coding: utf-8\n",
      "\n",
      "# In[49]:\n",
      "\n",
      "# Задача-1:\n",
      "# Напишите скрипт, создающий директории dir_1 - dir_9 в папке,\n",
      "# из которой запущен данный скрипт.\n",
      "# И второй скрипт, удаляющий эти папки.\n",
      "\n",
      "import os\n",
      "for i in range(1,10):\n",
      "    try:\n",
      "        os.mkdir('dir_' + str(i))\n",
      "    except FileExistsError:\n",
      "        print('Папка уже существует')\n",
      "for i in range(1,10):\n",
      "    try:\n",
      "        os.removedirs('dir_' + str(i))\n",
      "    except FileNotFoundError:\n",
      "        print('Не удается найти указанную папку')\n",
      "        \n",
      "# Задача-2:\n",
      "# Напишите скрипт, отображающий папки текущей директории.\n",
      "import os\n",
      "print(os.listdir())\n",
      "\n",
      "# Задача-3:\n",
      "# Напишите скрипт, создающий копию файла, из которого запущен данный скрипт.\n",
      "import sys\n",
      "import shutil\n",
      "file_path = os.getcwd()\n",
      "print(file_path)\n",
      "print(sys.argv[0])\n",
      "#file_name, ext = sys.argv[0].split('.')#os.path.split(file_path)[1]\n",
      "#ext = '.ipynb'#os.path.splitext(file_path)\n",
      "#print(file_path)\n",
      "\n",
      "#new_file = file_name + '_copy.'+ext\n",
      "#shutil.copy('easy.ipynb', new_file, follow_symlinks=True)\n",
      "\n",
      "\n"
     ]
    }
   ],
   "source": [
    "# Задача-1:\n",
    "# Напишите скрипт, создающий директории dir_1 - dir_9 в папке,\n",
    "# из которой запущен данный скрипт.\n",
    "# И второй скрипт, удаляющий эти папки.\n",
    "\n",
    "import os\n",
    "for i in range(1,10):\n",
    "    try:\n",
    "        os.mkdir('dir_' + str(i))\n",
    "    except FileExistsError:\n",
    "        print('Папка уже существует')\n",
    "for i in range(1,10):\n",
    "    try:\n",
    "        os.removedirs('dir_' + str(i))\n",
    "    except FileNotFoundError:\n",
    "        print('Не удается найти указанную папку')\n",
    "        \n",
    "# Задача-2:\n",
    "# Напишите скрипт, отображающий папки текущей директории.\n",
    "import os\n",
    "files_and_dirs = os.listdir()\n",
    "for i in files_and_dirs:\n",
    "    if os.path.isdir(i):\n",
    "        print(i)\n",
    "\n",
    "# Задача-3:\n",
    "# Напишите скрипт, создающий копию файла, из которого запущен данный скрипт.\n",
    "import shutil\n",
    "# 1st way \n",
    "with open('easy.py', 'rb') as source:\n",
    "    source_text = source.read()\n",
    "    with open('easy__copy.py', 'wb') as dst:\n",
    "        dst.write(source_text)\n",
    "# 2nd way      \n",
    "shutil.copy('easy.py', 'easy_copy.py', follow_symlinks=True)\n"
   ]
  }
 ],
 "metadata": {
  "kernelspec": {
   "display_name": "Python 3",
   "language": "python",
   "name": "python3"
  },
  "language_info": {
   "codemirror_mode": {
    "name": "ipython",
    "version": 3
   },
   "file_extension": ".py",
   "mimetype": "text/x-python",
   "name": "python",
   "nbconvert_exporter": "python",
   "pygments_lexer": "ipython3",
   "version": "3.6.0"
  }
 },
 "nbformat": 4,
 "nbformat_minor": 2
}
