{
 "cells": [
  {
   "cell_type": "code",
   "execution_count": 3,
   "metadata": {
    "collapsed": false
   },
   "outputs": [
    {
     "name": "stdout",
     "output_type": "stream",
     "text": [
      "1. Перейти в папку\n",
      "2. Просмотреть содержимое текущей папки\n",
      "3. Удалить папку\n",
      "4. Создать папку\n",
      "Press 'q' to exit, 'm' to return menu\n",
      "Выберите действие:2\n",
      "Содержимое папки: ['.ipynb_checkpoints', 'asd', 'easy.ipynb', 'easy.py', 'easy_functions.ipynb', 'easy_functions.py', 'normal.ipynb', 'test_from-metoda.py', 'test_from_metoda.ipynb', '__pycache__']\n",
      "Выберите действие:m\n",
      "1. Перейти в папку\n",
      "2. Просмотреть содержимое текущей папки\n",
      "3. Удалить папку\n",
      "4. Создать папку\n",
      "Press 'q' to exit, 'm' to return menu\n",
      "Выберите действие:q\n"
     ]
    },
    {
     "ename": "SystemExit",
     "evalue": "",
     "output_type": "error",
     "traceback": [
      "An exception has occurred, use %tb to see the full traceback.\n",
      "\u001b[0;31mSystemExit\u001b[0m\n"
     ]
    },
    {
     "name": "stderr",
     "output_type": "stream",
     "text": [
      "C:\\Users\\user\\Anaconda3\\lib\\site-packages\\IPython\\core\\interactiveshell.py:2889: UserWarning: To exit: use 'exit', 'quit', or Ctrl-D.\n",
      "  warn(\"To exit: use 'exit', 'quit', or Ctrl-D.\", stacklevel=1)\n"
     ]
    }
   ],
   "source": [
    "# Задача-1:\n",
    "# Напишите небольшую консольную утилиту,\n",
    "# позволяющую работать с папками текущей директории.\n",
    "# Утилита должна иметь меню выбора действия, в котором будут пункты:\n",
    "# 1. Перейти в папку\n",
    "# 2. Просмотреть содержимое текущей папки\n",
    "# 3. Удалить папку\n",
    "# 4. Создать папку\n",
    "# При выборе пунктов 1, 3, 4 программа запрашивает название папки\n",
    "# и выводит результат действия: \"Успешно создано/удалено/перешел\",\n",
    "# \"Невозможно создать/удалить/перейти\"\n",
    "\n",
    "# Для решения данной задачи используйте алгоритмы из задания easy,\n",
    "# оформленные в виде соответствующих функций,\n",
    "# и импортированные в данный файл из easy.py\n",
    "\n",
    "import os, sys\n",
    "import easy_functions as ef\n",
    "\n",
    "def menu():\n",
    "    print('1. Перейти в папку\\n2. Просмотреть содержимое текущей папки\\n3. Удалить папку\\n4. Создать папку')\n",
    "    print('Press \\'q\\' to exit, \\'m\\' to return menu')\n",
    "menu()\n",
    "# def get_dirname():\n",
    "#     dir_name = input('Введите имя папки: ')\n",
    "#     return dir_name\n",
    "do = {'1': ef.change_dir,\n",
    "      '2': ef.list_dir,\n",
    "      '3': ef.delete_dir,\n",
    "      '4': ef.make_dir,\n",
    "      'm': menu\n",
    "    }\n",
    "while True:\n",
    "    key = input('Выберите действие:')\n",
    "    if key:\n",
    "        if do.get(key):\n",
    "            if key in ['1','3','4']:\n",
    "                do[key]()\n",
    "            else:\n",
    "                do[key]()\n",
    "        elif key == 'q':\n",
    "            sys.exit()\n",
    "        else:\n",
    "            print('Такого действия в меню нет')"
   ]
  }
 ],
 "metadata": {
  "kernelspec": {
   "display_name": "Python 3",
   "language": "python",
   "name": "python3"
  },
  "language_info": {
   "codemirror_mode": {
    "name": "ipython",
    "version": 3
   },
   "file_extension": ".py",
   "mimetype": "text/x-python",
   "name": "python",
   "nbconvert_exporter": "python",
   "pygments_lexer": "ipython3",
   "version": "3.6.0"
  }
 },
 "nbformat": 4,
 "nbformat_minor": 2
}
