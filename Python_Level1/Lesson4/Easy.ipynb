{
 "cells": [
  {
   "cell_type": "code",
   "execution_count": 3,
   "metadata": {
    "collapsed": false
   },
   "outputs": [
    {
     "name": "stdout",
     "output_type": "stream",
     "text": [
      "[9, 4, 15, 4, 5, 3, 12, 10, 10, 19]\n",
      "[81, 16, 225, 16, 25, 9, 144, 100, 100, 361]\n"
     ]
    }
   ],
   "source": [
    "# Все задачи текущего блока решите с помощью генераторов списков!\n",
    " \n",
    "# Задание-1:\n",
    "# Дан список, заполненный произвольными целыми числами.\n",
    "# Получить новый список, элементы которого будут\n",
    "# квадратами элементов исходного списка\n",
    "# [1, 2, 4, 0] --> [1, 4, 16, 0]\n",
    "import random\n",
    "lst1 = [random.randint(0,20) for _ in range(10)]\n",
    "lst2 = [i**2 for i in lst1]\n",
    "print(lst1)\n",
    "print(lst2)"
   ]
  },
  {
   "cell_type": "code",
   "execution_count": 6,
   "metadata": {
    "collapsed": false
   },
   "outputs": [],
   "source": [
    "# Задание-2:\n",
    "# Даны два списка фруктов.\n",
    "# Получить список фруктов, присутствующих в обоих исходных списках.\n",
    "fruits1 = ['apple', 'pinapple', 'cherry', 'orange', 'banana']\n",
    "fruits2 = ['orange', 'grapefruit', 'mango', 'apple', 'kiwi', 'cherry', 'banana']\n",
    "fruits3 = [i for i in fruits1 if i in fruits2]"
   ]
  },
  {
   "cell_type": "code",
   "execution_count": 11,
   "metadata": {
    "collapsed": false
   },
   "outputs": [
    {
     "name": "stdout",
     "output_type": "stream",
     "text": [
      "[18, -2, -18, 13, -3, 9, 11, -12, 17, -16, 5, 10, -1, -18, 15, 9, 4, 10, 3, -1]\n",
      "[18, 9, 15, 9, 3]\n"
     ]
    }
   ],
   "source": [
    "# Задание-3:\n",
    "# Дан список, заполненный произвольными числами.\n",
    "# Получить список из элементов исходного, удовлетворяющих следующим условиям:\n",
    "# + Элемент кратен 3\n",
    "# + Элемент положительный\n",
    "# + Элемент не кратен 4\n",
    "import random\n",
    "lst1 = [random.randint(-20,20) for _ in range(20)]\n",
    "#[18, -2, -18, 13, -3, 9, 11, -12, 17, -16, 5, 10, -1, -18, 15, 9, 4, 10, 3, -1]\n",
    "lst2 = [i for i in lst1 if (i>=0) and (i%3==0) and (i%4!=0)]\n",
    "#[18, 9, 15, 9, 3]"
   ]
  }
 ],
 "metadata": {
  "kernelspec": {
   "display_name": "Python 3",
   "language": "python",
   "name": "python3"
  },
  "language_info": {
   "codemirror_mode": {
    "name": "ipython",
    "version": 3
   },
   "file_extension": ".py",
   "mimetype": "text/x-python",
   "name": "python",
   "nbconvert_exporter": "python",
   "pygments_lexer": "ipython3",
   "version": "3.6.0"
  }
 },
 "nbformat": 4,
 "nbformat_minor": 2
}
